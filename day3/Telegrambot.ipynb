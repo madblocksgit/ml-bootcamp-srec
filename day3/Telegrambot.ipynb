{
  "nbformat": 4,
  "nbformat_minor": 0,
  "metadata": {
    "colab": {
      "name": "Telegrambot.ipynb",
      "provenance": []
    },
    "kernelspec": {
      "display_name": "Python 3",
      "name": "python3"
    },
    "language_info": {
      "name": "python"
    }
  },
  "cells": [
    {
      "cell_type": "code",
      "metadata": {
        "colab": {
          "background_save": true,
          "base_uri": "https://localhost:8080/"
        },
        "id": "pnw_ySTy403T",
        "outputId": "717b6c45-6f36-4b91-950e-7d90410ef635"
      },
      "source": [
        "import urllib.request as url\n",
        "boturl='https://api.thingspeak.com/update?api_key=29HJR1WCNM5TB9IB&field1='\n",
        "while True:\n",
        "  print('type on to make bulb on')\n",
        "  print('type off to make bulb off')\n",
        "  k=input().lower()\n",
        "  if k=='on':\n",
        "    print('bulb on')\n",
        "    a=url.urlopen(boturl+str(10))\n",
        "    print(a)\n",
        "  elif k=='off':\n",
        "    print('bulb off')\n",
        "    a=url.urlopen(boturl+str(0))\n",
        "    print(a)\n",
        "    "
      ],
      "execution_count": null,
      "outputs": [
        {
          "name": "stdout",
          "output_type": "stream",
          "text": [
            "type on to make bulb on\n",
            "type off to make bulb off\n",
            "bulb on\n",
            "<http.client.HTTPResponse object at 0x7fdaddc09c90>\n",
            "type on to make bulb on\n",
            "type off to make bulb off\n",
            "bulb off\n",
            "<http.client.HTTPResponse object at 0x7fdae0c59450>\n",
            "type on to make bulb on\n",
            "type off to make bulb off\n",
            "bulb on\n",
            "<http.client.HTTPResponse object at 0x7fdada1ba350>\n",
            "type on to make bulb on\n",
            "type off to make bulb off\n",
            "bulb off\n",
            "<http.client.HTTPResponse object at 0x7fdaddc427d0>\n",
            "type on to make bulb on\n",
            "type off to make bulb off\n",
            "bulb off\n",
            "<http.client.HTTPResponse object at 0x7fdae0c59050>\n",
            "type on to make bulb on\n",
            "type off to make bulb off\n",
            "bulb off\n",
            "<http.client.HTTPResponse object at 0x7fdada1d6fd0>\n",
            "type on to make bulb on\n",
            "type off to make bulb off\n",
            "bulb on\n",
            "<http.client.HTTPResponse object at 0x7fdae195af10>\n",
            "type on to make bulb on\n",
            "type off to make bulb off\n"
          ]
        }
      ]
    }
  ]
}